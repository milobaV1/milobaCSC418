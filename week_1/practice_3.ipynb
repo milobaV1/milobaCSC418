{
 "cells": [
  {
   "cell_type": "code",
   "execution_count": 11,
   "id": "3b7af86b-c8e9-4c09-99b8-cb5b294bce1e",
   "metadata": {},
   "outputs": [],
   "source": [
    "import cv2 as cv\n",
    "import os"
   ]
  },
  {
   "cell_type": "code",
   "execution_count": 14,
   "id": "738f8eb6-945d-45a3-984e-aac4c0b924a1",
   "metadata": {},
   "outputs": [],
   "source": [
    "path = r'C:\\Users\\USER\\Documents\\YEAR_4\\2nd_Semester\\CSC418\\milobaCSC418\\week_1\\img\\pic_1.png'\n",
    "dir = r'C:\\Users\\USER\\Documents\\YEAR_4\\2nd_Semester\\CSC418\\milobaCSC418\\week_1\\img'"
   ]
  },
  {
   "cell_type": "code",
   "execution_count": 15,
   "id": "960b4b26-b756-4c4e-b886-54867c77d07e",
   "metadata": {},
   "outputs": [
    {
     "name": "stdout",
     "output_type": "stream",
     "text": [
      "Before saving image\n",
      "['pic_1.png']\n",
      "After saving image\n",
      "['pic_1.png', 'pic_2.png']\n",
      "Successfully saved\n"
     ]
    }
   ],
   "source": [
    "img = cv.imread(path, 0)\n",
    "\n",
    "os.chdir(dir)\n",
    "\n",
    "print('Before saving image')\n",
    "print(os.listdir(dir))\n",
    "\n",
    "filename = 'pic_2.png'\n",
    "\n",
    "cv.imwrite(filename, img)\n",
    "\n",
    "print('After saving image')\n",
    "print(os.listdir(dir))\n",
    "\n",
    "print('Successfully saved')"
   ]
  },
  {
   "cell_type": "code",
   "execution_count": null,
   "id": "ffdfb611-1d5f-4410-82d8-9fd010ffd849",
   "metadata": {},
   "outputs": [],
   "source": []
  }
 ],
 "metadata": {
  "kernelspec": {
   "display_name": "Python 3 (ipykernel)",
   "language": "python",
   "name": "python3"
  },
  "language_info": {
   "codemirror_mode": {
    "name": "ipython",
    "version": 3
   },
   "file_extension": ".py",
   "mimetype": "text/x-python",
   "name": "python",
   "nbconvert_exporter": "python",
   "pygments_lexer": "ipython3",
   "version": "3.11.7"
  }
 },
 "nbformat": 4,
 "nbformat_minor": 5
}
