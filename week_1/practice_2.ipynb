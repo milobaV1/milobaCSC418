{
 "cells": [
  {
   "cell_type": "code",
   "execution_count": 1,
   "id": "bc29f4e5-50e1-45ea-990f-4c88847bec2d",
   "metadata": {},
   "outputs": [],
   "source": [
    "import cv2 as cv"
   ]
  },
  {
   "cell_type": "code",
   "execution_count": 6,
   "id": "82ec8125-1c9d-4214-b1b3-91776f0d5393",
   "metadata": {},
   "outputs": [],
   "source": [
    "path = 'img/pic_1.png'"
   ]
  },
  {
   "cell_type": "code",
   "execution_count": 10,
   "id": "74673385-df5c-4246-af75-5731944b082d",
   "metadata": {},
   "outputs": [],
   "source": [
    "img = cv.imread(path, 0)\n",
    "\n",
    "window_name = 'Man City Kit'\n",
    "\n",
    "cv.imshow(window_name, img)\n",
    "\n",
    "cv.waitKey(0)\n",
    "\n",
    "cv.destroyAllWindows()"
   ]
  },
  {
   "cell_type": "code",
   "execution_count": null,
   "id": "f25b34f8-8f0e-4a8b-aaa3-97773f44ce9c",
   "metadata": {},
   "outputs": [],
   "source": []
  }
 ],
 "metadata": {
  "kernelspec": {
   "display_name": "Python 3 (ipykernel)",
   "language": "python",
   "name": "python3"
  },
  "language_info": {
   "codemirror_mode": {
    "name": "ipython",
    "version": 3
   },
   "file_extension": ".py",
   "mimetype": "text/x-python",
   "name": "python",
   "nbconvert_exporter": "python",
   "pygments_lexer": "ipython3",
   "version": "3.11.7"
  }
 },
 "nbformat": 4,
 "nbformat_minor": 5
}
