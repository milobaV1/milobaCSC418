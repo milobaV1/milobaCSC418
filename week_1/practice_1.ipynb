{
 "cells": [
  {
   "cell_type": "code",
   "execution_count": 1,
   "id": "383db50f-75eb-4122-a287-d18bd7b60aa5",
   "metadata": {},
   "outputs": [],
   "source": [
    "import cv2"
   ]
  },
  {
   "cell_type": "code",
   "execution_count": 2,
   "id": "f85c221d-05f5-4e53-831f-765336962762",
   "metadata": {},
   "outputs": [],
   "source": [
    "path = 'img/pic_1.png'"
   ]
  },
  {
   "cell_type": "code",
   "execution_count": 4,
   "id": "0e23d640-0340-487d-aa9f-58705e128e7a",
   "metadata": {},
   "outputs": [],
   "source": [
    "img = cv2.imread(path)\n",
    "\n",
    "window_name = 'Display Image'\n",
    "\n",
    "cv2.imshow(window_name, img)\n",
    "\n",
    "cv2.waitKey(0)\n",
    "\n",
    "cv2.destroyAllWindows()"
   ]
  },
  {
   "cell_type": "code",
   "execution_count": null,
   "id": "5acbbb9c-0f42-419b-9e3e-a44692db82fe",
   "metadata": {},
   "outputs": [],
   "source": []
  }
 ],
 "metadata": {
  "kernelspec": {
   "display_name": "Python 3 (ipykernel)",
   "language": "python",
   "name": "python3"
  },
  "language_info": {
   "codemirror_mode": {
    "name": "ipython",
    "version": 3
   },
   "file_extension": ".py",
   "mimetype": "text/x-python",
   "name": "python",
   "nbconvert_exporter": "python",
   "pygments_lexer": "ipython3",
   "version": "3.11.7"
  }
 },
 "nbformat": 4,
 "nbformat_minor": 5
}
