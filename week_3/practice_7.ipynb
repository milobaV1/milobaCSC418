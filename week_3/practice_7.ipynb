{
 "cells": [
  {
   "cell_type": "code",
   "execution_count": 1,
   "id": "7557c695-b62f-4fb4-85f9-c0252e7004ea",
   "metadata": {},
   "outputs": [],
   "source": [
    "import cv2 as cv"
   ]
  },
  {
   "cell_type": "code",
   "execution_count": 3,
   "id": "024a72ae-5ec6-4778-b029-1e34243b20d6",
   "metadata": {},
   "outputs": [],
   "source": [
    "img = cv.imread('img/pic_1.png')\n",
    "\n",
    "cv.imshow('Original Image', img)\n",
    "cv.waitKey(0)\n",
    "\n",
    "Gaussian = cv.GaussianBlur(img, (7, 7), 0)\n",
    "cv.imshow('Gaussian Blurring', Gaussian)\n",
    "cv.waitKey(0)\n",
    "\n",
    "median = cv.medianBlur(img, 5)\n",
    "cv.imshow('Median Blurring', median)\n",
    "cv.waitKey(0)\n",
    "\n",
    "bilateral = cv.bilateralFilter(img, 9, 75, 75)\n",
    "cv.imshow('Bilateral Blurring', bilateral)\n",
    "cv.waitKey(0)\n",
    "cv.destroyAllWindows()"
   ]
  },
  {
   "cell_type": "code",
   "execution_count": null,
   "id": "d496c2cf-fac6-4bf5-9a30-91d2b23207ca",
   "metadata": {},
   "outputs": [],
   "source": []
  }
 ],
 "metadata": {
  "kernelspec": {
   "display_name": "Python 3 (ipykernel)",
   "language": "python",
   "name": "python3"
  },
  "language_info": {
   "codemirror_mode": {
    "name": "ipython",
    "version": 3
   },
   "file_extension": ".py",
   "mimetype": "text/x-python",
   "name": "python",
   "nbconvert_exporter": "python",
   "pygments_lexer": "ipython3",
   "version": "3.11.7"
  }
 },
 "nbformat": 4,
 "nbformat_minor": 5
}
