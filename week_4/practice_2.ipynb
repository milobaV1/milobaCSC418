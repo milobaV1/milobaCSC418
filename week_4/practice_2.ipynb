{
 "cells": [
  {
   "cell_type": "code",
   "execution_count": 1,
   "id": "71b29fa6-2d77-4a3b-98e9-5e1dde19fc9a",
   "metadata": {},
   "outputs": [],
   "source": [
    "import cv2 as cv\n",
    "import numpy as np"
   ]
  },
  {
   "cell_type": "code",
   "execution_count": null,
   "id": "8f99e7ea-2797-4220-9e93-3a1f82bfed03",
   "metadata": {},
   "outputs": [],
   "source": [
    "img = cv.imread('img/pic_1.png', cv.IMREAD_GRAYSCALE)\n",
    "\n",
    "img = cv.resize(img, (500,400))\n",
    "\n",
    "kernel_x = np.array([[-1, -1, -1],\n",
    "                    [0, 0, 0],\n",
    "                    [1, 1, 1]])\n",
    "\n",
    "kernel_y = np.array([[-1, 0, 1],\n",
    "                    [-1, 0, 1],\n",
    "                    [-1, 0, 1]])\n",
    "\n",
    "prewitt_x = cv.filter2D(img, -1, kernel_x)\n",
    "prewitt_y = cv.filter2D(img, -1, kernel_y)\n",
    "\n",
    "prewitt_combined = np.sqrt(np.square(prewitt_x) + np.square(prewitt_y))\n",
    "\n",
    "cv.imshow('Original', img)\n",
    "cv.imshow('Prewitt Edges', np.uint8(prewitt_combined))\n",
    "\n",
    "\n",
    "cv.waitKey(0)\n",
    "cv.destroyAllWindows()"
   ]
  },
  {
   "cell_type": "code",
   "execution_count": null,
   "id": "c545488e-9814-4535-bd0e-88d2d2df53dc",
   "metadata": {},
   "outputs": [],
   "source": []
  }
 ],
 "metadata": {
  "kernelspec": {
   "display_name": "Python 3 (ipykernel)",
   "language": "python",
   "name": "python3"
  },
  "language_info": {
   "codemirror_mode": {
    "name": "ipython",
    "version": 3
   },
   "file_extension": ".py",
   "mimetype": "text/x-python",
   "name": "python",
   "nbconvert_exporter": "python",
   "pygments_lexer": "ipython3",
   "version": "3.11.7"
  }
 },
 "nbformat": 4,
 "nbformat_minor": 5
}
