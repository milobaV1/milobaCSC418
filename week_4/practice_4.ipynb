{
 "cells": [
  {
   "cell_type": "code",
   "execution_count": 1,
   "id": "b13d9ea0-0cda-4a2e-83e5-93d568a90d49",
   "metadata": {},
   "outputs": [],
   "source": [
    "import cv2 as cv\n",
    "import numpy as np"
   ]
  },
  {
   "cell_type": "code",
   "execution_count": null,
   "id": "7d7fc757-03bc-47cd-ac63-8ec486f75915",
   "metadata": {},
   "outputs": [],
   "source": [
    "img = cv.imread('img/pic_1.png', cv.IMREAD_GRAYSCALE)\n",
    "\n",
    "img = cv.resize(img, (400,400))\n",
    "\n",
    "laplacian = cv.Laplacian(img, cv.CV_64F)\n",
    "\n",
    "laplacian = cv.convertScaleAbs(laplacian)\n",
    "\n",
    "\n",
    "\n",
    "cv.imshow('Original', img)\n",
    "cv.imshow('Laplacian Edges', laplacian)\n",
    "\n",
    "cv.waitKey(0)\n",
    "cv.destroyAllWindows()"
   ]
  }
 ],
 "metadata": {
  "kernelspec": {
   "display_name": "Python 3 (ipykernel)",
   "language": "python",
   "name": "python3"
  },
  "language_info": {
   "codemirror_mode": {
    "name": "ipython",
    "version": 3
   },
   "file_extension": ".py",
   "mimetype": "text/x-python",
   "name": "python",
   "nbconvert_exporter": "python",
   "pygments_lexer": "ipython3",
   "version": "3.11.7"
  }
 },
 "nbformat": 4,
 "nbformat_minor": 5
}
