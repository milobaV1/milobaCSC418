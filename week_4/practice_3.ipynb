{
 "cells": [
  {
   "cell_type": "code",
   "execution_count": 1,
   "id": "3c2656af-037b-4566-bda2-a03e0b3f6eb6",
   "metadata": {},
   "outputs": [],
   "source": [
    "import cv2 as cv\n",
    "import numpy as np"
   ]
  },
  {
   "cell_type": "code",
   "execution_count": 2,
   "id": "4f64add7-9570-4bfd-b184-90a67efa521b",
   "metadata": {},
   "outputs": [],
   "source": [
    "img = cv.imread('img/pic_1.png', cv.IMREAD_GRAYSCALE)\n",
    "\n",
    "img = cv.GaussianBlur(img, (5, 5), 0)\n",
    "\n",
    "kernel_x = np.array([[1, 0],\n",
    "                    [0, -1]])\n",
    "\n",
    "kernel_y = np.array([[0, 1],\n",
    "                    [-1, 0]])\n",
    "\n",
    "robert_x = cv.filter2D(img, -1, kernel_x)\n",
    "robert_y = cv.filter2D(img, -1, kernel_y)\n",
    "\n",
    "robert_combined = np.sqrt(np.square(robert_x) + np.square(robert_y))\n",
    "\n",
    "cv.imshow('Original', img)\n",
    "cv.imshow('Robert Edges', np.uint8(robert_combined))\n",
    "\n",
    "\n",
    "cv.waitKey(0)\n",
    "cv.destroyAllWindows()"
   ]
  },
  {
   "cell_type": "code",
   "execution_count": null,
   "id": "7c429ee6-b882-404e-945f-6609ce749e70",
   "metadata": {},
   "outputs": [],
   "source": []
  }
 ],
 "metadata": {
  "kernelspec": {
   "display_name": "Python 3 (ipykernel)",
   "language": "python",
   "name": "python3"
  },
  "language_info": {
   "codemirror_mode": {
    "name": "ipython",
    "version": 3
   },
   "file_extension": ".py",
   "mimetype": "text/x-python",
   "name": "python",
   "nbconvert_exporter": "python",
   "pygments_lexer": "ipython3",
   "version": "3.11.7"
  }
 },
 "nbformat": 4,
 "nbformat_minor": 5
}
