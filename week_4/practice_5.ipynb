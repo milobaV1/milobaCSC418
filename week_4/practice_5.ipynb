{
 "cells": [
  {
   "cell_type": "code",
   "execution_count": 1,
   "id": "b8b7cf32-b5bf-42eb-9155-61d6c7d3cd6c",
   "metadata": {},
   "outputs": [],
   "source": [
    "import cv2 as cv\n",
    "import numpy as np"
   ]
  },
  {
   "cell_type": "code",
   "execution_count": null,
   "id": "937ce702-b6c6-4466-ad45-ab2442dcf059",
   "metadata": {},
   "outputs": [],
   "source": [
    "img = cv.imread('img/pic_1.png', cv.IMREAD_GRAYSCALE)\n",
    "\n",
    "img = cv.resize(img, (400,400))\n",
    "\n",
    "laplacian = cv.Canny(img, 100, 200)\n",
    "\n",
    "laplacian = cv.convertScaleAbs(laplacian)\n",
    "\n",
    "\n",
    "\n",
    "cv.imshow('Original', img)\n",
    "cv.imshow('Laplacian Edges', laplacian)\n",
    "\n",
    "cv.waitKey(0)\n",
    "cv.destroyAllWindows()"
   ]
  }
 ],
 "metadata": {
  "kernelspec": {
   "display_name": "Python 3 (ipykernel)",
   "language": "python",
   "name": "python3"
  },
  "language_info": {
   "codemirror_mode": {
    "name": "ipython",
    "version": 3
   },
   "file_extension": ".py",
   "mimetype": "text/x-python",
   "name": "python",
   "nbconvert_exporter": "python",
   "pygments_lexer": "ipython3",
   "version": "3.11.7"
  }
 },
 "nbformat": 4,
 "nbformat_minor": 5
}
