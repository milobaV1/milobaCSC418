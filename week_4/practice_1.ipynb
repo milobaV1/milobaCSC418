{
 "cells": [
  {
   "cell_type": "code",
   "execution_count": 2,
   "id": "a09e2845-d889-4bdb-8e6f-c2d495ee1552",
   "metadata": {},
   "outputs": [],
   "source": [
    "import cv2 as cv\n",
    "import numpy as np"
   ]
  },
  {
   "cell_type": "code",
   "execution_count": 3,
   "id": "b1191eeb-c6e4-47c4-be94-fdfad39139be",
   "metadata": {},
   "outputs": [],
   "source": [
    "img = cv.imread('img/pic_1.png', cv.IMREAD_GRAYSCALE)\n",
    "\n",
    "img = cv.resize(img, (500,400))\n",
    "\n",
    "sobel_x = cv.Sobel(img, cv.CV_64F, 1, 0, ksize=3)\n",
    "sobel_y = cv.Sobel(img, cv.CV_64F, 0, 1, ksize=3)\n",
    "\n",
    "sobel_combined = cv.magnitude(sobel_x, sobel_y)\n",
    "\n",
    "cv.imshow('Original', img)\n",
    "cv.imshow('Sobel Edges', np.uint8(sobel_combined))\n",
    "\n",
    "cv.waitKey(0)\n",
    "cv.destroyAllWindows()"
   ]
  },
  {
   "cell_type": "code",
   "execution_count": null,
   "id": "23f06681-eb00-41a2-ad84-36cef7da3ddc",
   "metadata": {},
   "outputs": [],
   "source": []
  }
 ],
 "metadata": {
  "kernelspec": {
   "display_name": "Python 3 (ipykernel)",
   "language": "python",
   "name": "python3"
  },
  "language_info": {
   "codemirror_mode": {
    "name": "ipython",
    "version": 3
   },
   "file_extension": ".py",
   "mimetype": "text/x-python",
   "name": "python",
   "nbconvert_exporter": "python",
   "pygments_lexer": "ipython3",
   "version": "3.11.7"
  }
 },
 "nbformat": 4,
 "nbformat_minor": 5
}
