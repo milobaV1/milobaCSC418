{
 "cells": [
  {
   "cell_type": "code",
   "execution_count": 1,
   "id": "118c8c6e-cf80-4978-a56e-b32e4e251733",
   "metadata": {},
   "outputs": [],
   "source": [
    "import cv2 as cv"
   ]
  },
  {
   "cell_type": "code",
   "execution_count": 5,
   "id": "071883ea-951e-4a99-82e1-1d1ae030227f",
   "metadata": {},
   "outputs": [],
   "source": [
    "def get_image(name):\n",
    "    new_path = \"img/umc/\" + name + \".jpg\"\n",
    "    print(new_path)\n",
    "    img = cv.imread(new_path)\n",
    "    img = cv.resize(img, (500, 600))\n",
    "    window_name = name + ' profile'\n",
    "    cv.imshow(window_name, img)\n",
    "    cv.waitKey(0)\n",
    "    cv.destroyAllWindows()"
   ]
  },
  {
   "cell_type": "code",
   "execution_count": 6,
   "id": "48cd1816-59cd-46e7-851e-68267521555f",
   "metadata": {},
   "outputs": [
    {
     "name": "stdout",
     "output_type": "stream",
     "text": [
      "Welcome to the login page\n"
     ]
    },
    {
     "name": "stdin",
     "output_type": "stream",
     "text": [
      "Username:  pbamkole\n",
      "Password:  d\n"
     ]
    },
    {
     "name": "stdout",
     "output_type": "stream",
     "text": [
      "Welcome pbamkole\n",
      "img/umc/pbamkole.jpg\n"
     ]
    }
   ],
   "source": [
    "print('Welcome to the login page')\n",
    "username = input('Username: ')\n",
    "password = input('Password: ')\n",
    "\n",
    "print('Welcome '+username)\n",
    "username = username.strip()\n",
    "get_image(username)"
   ]
  },
  {
   "cell_type": "code",
   "execution_count": null,
   "id": "ec40b306-24fa-407f-a3f9-e2c79aeb6561",
   "metadata": {},
   "outputs": [],
   "source": []
  }
 ],
 "metadata": {
  "kernelspec": {
   "display_name": "Python 3 (ipykernel)",
   "language": "python",
   "name": "python3"
  },
  "language_info": {
   "codemirror_mode": {
    "name": "ipython",
    "version": 3
   },
   "file_extension": ".py",
   "mimetype": "text/x-python",
   "name": "python",
   "nbconvert_exporter": "python",
   "pygments_lexer": "ipython3",
   "version": "3.11.7"
  }
 },
 "nbformat": 4,
 "nbformat_minor": 5
}
