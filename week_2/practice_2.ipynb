{
 "cells": [
  {
   "cell_type": "code",
   "execution_count": 22,
   "id": "1f2981df-eefc-4eab-af39-b84f856c99f4",
   "metadata": {},
   "outputs": [],
   "source": [
    "import cv2 as cv\n",
    "import os\n",
    "dir_img = r'C:\\Users\\USER\\Documents\\YEAR_4\\2nd_Semester\\CSC418\\milobaCSC418\\week_2\\img'\n",
    "dir_file = r'C:\\Users\\USER\\Documents\\YEAR_4\\2nd_Semester\\CSC418\\milobaCSC418\\week_2'\n",
    "os.chdir(dir_file)"
   ]
  },
  {
   "cell_type": "code",
   "execution_count": 29,
   "id": "80b50a93-8664-407b-a62c-5c9e542e6a8c",
   "metadata": {},
   "outputs": [],
   "source": [
    "img1 = cv.imread('img/igho_1.jpg')\n",
    "img2 = cv.imread('img/igho_2.jpg')\n",
    "\n",
    "img1 = cv.resize(img1, (500, 400))\n",
    "img2 = cv.resize(img2, (500, 400))\n",
    "\n",
    "\n",
    "\n",
    "addImage = cv.addWeighted(img1, 0.3, img2, 0.5, 0)\n",
    "\n",
    "#sub = cv.subtract(img1, img2)\n",
    "\n",
    "cv.imshow('Weighted Image', addImage)\n",
    "\n",
    "if cv.waitKey(0) & 0xff == 27:\n",
    "    cv.destroyAllWindows()"
   ]
  },
  {
   "cell_type": "code",
   "execution_count": 8,
   "id": "b0493304-1328-4add-a401-974e2148a95b",
   "metadata": {},
   "outputs": [
    {
     "name": "stdout",
     "output_type": "stream",
     "text": [
      "Successfully saved\n"
     ]
    }
   ],
   "source": [
    "os.chdir(dir_img)\n",
    "filename = 'Overlay.jpg'\n",
    "cv.imwrite(filename, addImage)\n",
    "\n",
    "print('Successfully saved')"
   ]
  },
  {
   "cell_type": "code",
   "execution_count": null,
   "id": "6a214e24-4a2e-4a8e-a2b6-c2c18eecd8f0",
   "metadata": {},
   "outputs": [],
   "source": []
  }
 ],
 "metadata": {
  "kernelspec": {
   "display_name": "Python 3 (ipykernel)",
   "language": "python",
   "name": "python3"
  },
  "language_info": {
   "codemirror_mode": {
    "name": "ipython",
    "version": 3
   },
   "file_extension": ".py",
   "mimetype": "text/x-python",
   "name": "python",
   "nbconvert_exporter": "python",
   "pygments_lexer": "ipython3",
   "version": "3.11.7"
  }
 },
 "nbformat": 4,
 "nbformat_minor": 5
}
