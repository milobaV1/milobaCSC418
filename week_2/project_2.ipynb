{
 "cells": [
  {
   "cell_type": "code",
   "execution_count": 5,
   "id": "0629e063-4ceb-453f-be8a-14d205d8c102",
   "metadata": {},
   "outputs": [],
   "source": [
    "import cv2 as cv\n",
    "import numpy as np"
   ]
  },
  {
   "cell_type": "code",
   "execution_count": 10,
   "id": "b1c317ce-e9de-4ecf-9633-ba0484fe9765",
   "metadata": {},
   "outputs": [],
   "source": [
    "def inverse_image(name):\n",
    "    path = 'img/class/'+name\n",
    "    img = cv.imread(path)\n",
    "    img = cv.resize(img, (500,400))\n",
    "    img_inverse = 255-img\n",
    "    window_name = 'Inverse image of '+name\n",
    "    cv.imshow(window_name, img_inverse)\n",
    "    cv.waitKey(0)\n",
    "    cv.destroyAllWindows()\n",
    "\n",
    "def scale_image(name, x, y):\n",
    "    path = 'img/class/'+name\n",
    "    img = cv.imread(path)\n",
    "    img = cv.resize(img, (500,400))\n",
    "    img_scaled = cv.resize(img, None, fx=x, fy=y)\n",
    "    window_name = 'Scaled image of ' + name\n",
    "    cv.imshow(window_name, img_scaled)\n",
    "    cv.waitKey(0)\n",
    "    cv.destroyAllWindows()\n",
    "\n",
    "def add_image(name_1, name_2):\n",
    "    path_1 = 'img/class/'+name_1\n",
    "    path_2 = 'img/class/'+name_2\n",
    "    img_1 = cv.imread(path_1)\n",
    "    img_2 = cv.imread(path_2)\n",
    "    img_1 = cv.resize(img_1, (500,400))\n",
    "    img_2 = cv.resize(img_2, (500, 400))\n",
    "    addImage = cv.addWeighted(img_1, 0.5, img_2, 0.4, 0)\n",
    "    window_name = 'Added image of '+name_1+' and '+name_2\n",
    "    cv.imshow(window_name, addImage)\n",
    "    cv.waitKey(0)\n",
    "    cv.destroyAllWindows()\n",
    "\n",
    "def adjust_brightness(name, brightness, contrast):\n",
    "    path = 'img/class/'+name\n",
    "    img = cv.imread(path)\n",
    "    img = cv.resize(img, (500,400))\n",
    "    new_image = cv.addWeighted(img, contrast, np.zeros(img.shape, img.dtype), 0, brightness)\n",
    "    window_name = 'Adjusted image of ' + name\n",
    "    cv.imshow(window_name, new_image)\n",
    "    cv.waitKey(0)\n",
    "    cv.destroyAllWindows()\n",
    "    \n",
    "def sharpen_image(name):\n",
    "    path = 'img/class/'+name\n",
    "    img = cv.imread(path)\n",
    "    img = cv.resize(img, (500,400))\n",
    "    kernel = np.array([[0,-1,0],[-1,5,-1],[0,-1,0]])\n",
    "    sharpened_image = cv.filter2D(img, -1, kernel)\n",
    "    window_name = 'Sharpened image of ' + name\n",
    "    cv.imshow(window_name, sharpened_image)\n",
    "    cv.waitKey(0)\n",
    "    cv.destroyAllWindows()\n",
    "\n",
    "def noiseless_image(name):\n",
    "    path = 'img/class/'+name\n",
    "    img = cv.imread(path)\n",
    "    img = cv.resize(img, (500,400))\n",
    "    filtered_image = cv.medianBlur(img, 15)\n",
    "    window_name = 'Blured image of ' + name\n",
    "    cv.imshow(window_name, filtered_image)\n",
    "    cv.waitKey(0)\n",
    "    cv.destroyAllWindows()"
   ]
  },
  {
   "cell_type": "code",
   "execution_count": 11,
   "id": "ac8c9744-5146-470e-b037-d7aaa778fc08",
   "metadata": {},
   "outputs": [],
   "source": [
    "database = {'chima': {'matno':'001','img':'chima.jpg'},\n",
    "            'miracle': {'matno':'002', 'img':'miracle.jpg'},\n",
    "            'dumebi': {'matno':'003', 'img':'dumebi.jpg'},\n",
    "            'clement': {'matno':'004', 'img':'clement.jpg'},\n",
    "            'tomi': {'matno':'005','img':'tomi.jpg'},\n",
    "            'ada': {'matno': '006', 'img': 'ada.jpg'},\n",
    "            'bimpe': {'matno': '007', 'img': 'bimpe.jpg'}\n",
    "           }"
   ]
  },
  {
   "cell_type": "code",
   "execution_count": 12,
   "id": "99b1fdf1-ec82-40c9-a5c3-fe715190b396",
   "metadata": {},
   "outputs": [],
   "source": [
    "def select_enhancement_technique(number):\n",
    "    match number:\n",
    "        case 1:\n",
    "            name = input('Input the name of the image: ')\n",
    "            name = name.strip().lower()\n",
    "            inverse_image(database[name]['img'])\n",
    "        case 2:\n",
    "            name = input('Input the name of the image: ')\n",
    "            x = int(input('Input the preferred width: '))\n",
    "            y = int(input('Input the preferred height: '))\n",
    "            name = name.strip().lower()\n",
    "            scale_image(database[name]['img'], x, y)\n",
    "        case 3:\n",
    "            name_1 = input('Input the name of the first image: ')\n",
    "            name_2 = input('Input the name of the second image: ')\n",
    "            name_1.strip().lower()\n",
    "            name_2.strip().lower()\n",
    "            scale_image(database[name_1]['img'], database[name_2]['img'])\n",
    "        case 4: \n",
    "            name = input('Input the name of the image: ')\n",
    "            contrast = float(input('Input a number from 1 to 10 for the contrast: '))\n",
    "            brightness = float(input('Input a number from 1 to 10 for the brightness: '))\n",
    "            name = name.strip().lower()\n",
    "            adjust_brightness(database[name]['img'], brightness, contrast)\n",
    "        case 5: \n",
    "            name = input('Input the name of the image: ')\n",
    "            name = name.strip().lower()\n",
    "            sharpen_image(database[name]['img'])\n",
    "        case 6:\n",
    "            name = input('Input the name of the image: ')\n",
    "            name = name.strip().lower()\n",
    "            noiseless_image(database[name]['img'])"
   ]
  },
  {
   "cell_type": "code",
   "execution_count": 13,
   "id": "505fd8b5-2583-4ca8-8618-dd807ede38b8",
   "metadata": {},
   "outputs": [
    {
     "name": "stdout",
     "output_type": "stream",
     "text": [
      "Welcome to the image enhancement application\n"
     ]
    },
    {
     "name": "stdin",
     "output_type": "stream",
     "text": [
      "Username:  chima\n",
      "Mat no:  001\n"
     ]
    },
    {
     "name": "stdout",
     "output_type": "stream",
     "text": [
      "Select the enhancement technique\n",
      "Press 1 for inverting the colors of the image\n",
      "Press 2 for scaling the image\n",
      "Press 3 for adding two images\n",
      "Press 4 for adjusting the brightness of the image\n",
      "Press 5 for sharpening the image\n",
      "Press 6 for blurring the images\n"
     ]
    },
    {
     "name": "stdin",
     "output_type": "stream",
     "text": [
      " 1\n",
      "Input the name of the image:  tomi\n"
     ]
    }
   ],
   "source": [
    "print('Welcome to the image enhancement application')\n",
    "name = input('Username: ')\n",
    "matno = input('Mat no: ')\n",
    "if matno.strip() == database[name]['matno']:\n",
    "    print('Select the enhancement technique')\n",
    "    print('Press 1 for inverting the colors of the image')\n",
    "    print('Press 2 for scaling the image')\n",
    "    print('Press 3 for adding two images')\n",
    "    print('Press 4 for adjusting the brightness of the image')\n",
    "    print('Press 5 for sharpening the image')\n",
    "    print('Press 6 for blurring the images')\n",
    "    technique = int(input())\n",
    "    select_enhancement_technique(technique)\n",
    "else:\n",
    "    print('Incorrect matno or name')\n",
    "    "
   ]
  },
  {
   "cell_type": "code",
   "execution_count": null,
   "id": "108c6cfc-503c-4c41-b8c6-cbbef2ef58ea",
   "metadata": {},
   "outputs": [],
   "source": []
  }
 ],
 "metadata": {
  "kernelspec": {
   "display_name": "Python 3 (ipykernel)",
   "language": "python",
   "name": "python3"
  },
  "language_info": {
   "codemirror_mode": {
    "name": "ipython",
    "version": 3
   },
   "file_extension": ".py",
   "mimetype": "text/x-python",
   "name": "python",
   "nbconvert_exporter": "python",
   "pygments_lexer": "ipython3",
   "version": "3.11.7"
  }
 },
 "nbformat": 4,
 "nbformat_minor": 5
}
