{
 "cells": [
  {
   "cell_type": "code",
   "execution_count": 1,
   "id": "605cad82-b9d9-427c-ae9e-50508c76dc3b",
   "metadata": {},
   "outputs": [],
   "source": [
    "import cv2 as cv"
   ]
  },
  {
   "cell_type": "code",
   "execution_count": 5,
   "id": "88c62e99-ee6c-4d49-9dea-aea93203a743",
   "metadata": {},
   "outputs": [],
   "source": [
    "img = cv.imread('img/pic_1.png')\n",
    "img = cv.resize(img, (500, 400))\n",
    "\n",
    "B, G, R = cv.split(img)\n",
    "\n",
    "cv.imshow('Original', img)\n",
    "cv.waitKey(0)\n",
    "\n",
    "cv.imshow('Blue', B)\n",
    "cv.waitKey(0)\n",
    "\n",
    "cv.imshow('Green', G)\n",
    "cv.waitKey(0)\n",
    "\n",
    "cv.imshow('Red', R)\n",
    "cv.waitKey(0)\n",
    "\n",
    "merged_img = cv.merge([B, G, R])\n",
    "\n",
    "cv.imshow('Merged Image', merged_img)\n",
    "cv.waitKey(0)\n",
    "\n",
    "cv.destroyAllWindows()"
   ]
  },
  {
   "cell_type": "code",
   "execution_count": null,
   "id": "3888a58a-8f0e-48e5-9caf-3a0f2840eeaa",
   "metadata": {},
   "outputs": [],
   "source": []
  }
 ],
 "metadata": {
  "kernelspec": {
   "display_name": "Python 3 (ipykernel)",
   "language": "python",
   "name": "python3"
  },
  "language_info": {
   "codemirror_mode": {
    "name": "ipython",
    "version": 3
   },
   "file_extension": ".py",
   "mimetype": "text/x-python",
   "name": "python",
   "nbconvert_exporter": "python",
   "pygments_lexer": "ipython3",
   "version": "3.11.7"
  }
 },
 "nbformat": 4,
 "nbformat_minor": 5
}
